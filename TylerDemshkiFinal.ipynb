{
 "cells": [
  {
   "cell_type": "code",
   "execution_count": 2,
   "metadata": {},
   "outputs": [
    {
     "name": "stderr",
     "output_type": "stream",
     "text": [
      "C:\\ProgramData\\Anaconda3\\lib\\site-packages\\statsmodels\\compat\\pandas.py:56: FutureWarning: The pandas.core.datetools module is deprecated and will be removed in a future version. Please use the pandas.tseries module instead.\n",
      "  from pandas.core import datetools\n"
     ]
    }
   ],
   "source": [
    "import os\n",
    "import sys\n",
    "import pandas as pd\n",
    "import sklearn.linear_model as lm\n",
    "import sklearn.model_selection as ms\n",
    "import matplotlib.pyplot as plt\n",
    "import statsmodels.api as sm\n",
    "from sklearn.model_selection import train_test_split\n",
    "import numpy as np\n",
    "import matplotlib.pyplot"
   ]
  },
  {
   "cell_type": "code",
   "execution_count": 19,
   "metadata": {},
   "outputs": [],
   "source": [
    "#Start with preprocessing/cleaning of data\n",
    "\n",
    "#Correct columns of rain data\n",
    "\n",
    "BEC_rain_daily = pd.read_csv(\"C:\\\\Users\\\\Tyler\\\\ProjectData\\\\BECrain.txt\")\n",
    "file = open(\"C:\\\\Users\\\\Tyler\\\\ProjectData\\\\BECrain.txt\")\n",
    "newFile = open(\"C:\\\\Users\\\\Tyler\\\\ProjectData\\\\BECrainDailyFixed.txt\", 'w')\n",
    "for line in file:\n",
    "    newFile.write(line[0:10] + \",\" + line[10:12] + \",\" + line[12:14] + line[14:134]+\"\\n\" )\n",
    "    \n",
    "newFile.close()\n"
   ]
  },
  {
   "cell_type": "code",
   "execution_count": 109,
   "metadata": {},
   "outputs": [],
   "source": [
    "FMC_rain_daily = pd.read_csv(\"C:\\\\Users\\\\Tyler\\\\ProjectData\\\\FMCrain.txt\")\n",
    "file = open(\"C:\\\\Users\\\\Tyler\\\\ProjectData\\\\FMCrain.txt\")\n",
    "newFile = open(\"C:\\\\Users\\\\Tyler\\\\ProjectData\\\\FMCrainDailyFixed.txt\", 'w')\n",
    "for line in file:\n",
    "    newFile.write(line[0:10] + \",\" + line[10:12] + \",\" + line[12:14] + line[14:134]+\"\\n\" )\n",
    "    \n",
    "newFile.close()"
   ]
  },
  {
   "cell_type": "code",
   "execution_count": 4,
   "metadata": {
    "scrolled": true
   },
   "outputs": [],
   "source": [
    "#Remove missing data entries\n",
    "BEC_rain_daily = open(\"C:\\\\Users\\\\Tyler\\\\ProjectData\\\\BECrainDailyFixed.txt\")\n",
    "\n",
    "newFile = open(\"C:\\\\Users\\\\Tyler\\\\ProjectData\\\\BECrainDailyFixedNoMissing.txt\", 'w')\n",
    "for line in BEC_rain_daily:\n",
    "    if line.find('m') == -1:\n",
    "        newFile.write(line)\n",
    "    \n",
    "newFile.close()"
   ]
  },
  {
   "cell_type": "code",
   "execution_count": 110,
   "metadata": {},
   "outputs": [],
   "source": [
    "FMC_rain_daily = open(\"C:\\\\Users\\\\Tyler\\\\ProjectData\\\\FMCrainDailyFixed.txt\")\n",
    "\n",
    "newFile = open(\"C:\\\\Users\\\\Tyler\\\\ProjectData\\\\FMCrainDailyFixedNoMissing.txt\", 'w')\n",
    "for line in FMC_rain_daily:\n",
    "    if line.find('m') == -1:\n",
    "        newFile.write(line)\n",
    "    \n",
    "newFile.close()"
   ]
  },
  {
   "cell_type": "code",
   "execution_count": 33,
   "metadata": {
    "scrolled": true
   },
   "outputs": [],
   "source": [
    "#Convert format of Rain Data from daily into monthly\n",
    "def dailyToMonthlyRain(fileName):\n",
    "    file = pd.read_csv(fileName)\n",
    "    newFile=open(fileName[:-4]+\"Monthly.txt\", 'w')\n",
    "    monthRain=\"\"\n",
    "    #data is from 2006 to 2017, hardcode that query\n",
    "    for i in range (2006, 2018):\n",
    "        for j in range(1,13):\n",
    "            q = \"year == \" + str(i) + \" and month == \" + str(j)\n",
    "            r = file.query(q)\n",
    "            r=r.sort_values('day', ascending=False)\n",
    "            if (r.empty==False):\n",
    "                monthRain=float(r.iloc[0].start)-float(r.iloc[-1].start)\n",
    "            #print(pd.to_numeric(BEC_rain_daily[(BEC_rain_daily.year == i) & (BEC_rain_daily.month == j) & (BEC_rain_daily.day == 28)].start))\n",
    "            #end = BEC_rain_daily[(BEC_rain_daily.year == i) & (BEC_rain_daily.month == j) & (BEC_rain_daily.day == 1)].start.astype('float')\n",
    "            #monthRain = BEC_rain_daily[(BEC_rain_daily.year == i) & (BEC_rain_daily.month == j) & (BEC_rain_daily.day == 28)].start - BEC_rain_daily[(BEC_rain_daily.year == i) & (BEC_rain_daily.month == j) & (BEC_rain_daily.day ==1)].start\n",
    "                if monthRain >0:\n",
    "                    newFile.write(str(i) + \",\" + str(j) + \",\" + str(round(monthRain,2)))\n",
    "                    newFile.write('\\n')\n",
    "    newFile.close()\n",
    "    return\n",
    "dailyToMonthlyRain(\"C:\\\\Users\\\\Tyler\\\\ProjectData\\\\BECrainDailyFixedNoMissing.txt\")\n",
    "dailyToMonthlyRain(\"C:\\\\Users\\\\Tyler\\\\ProjectData\\\\FMCrainDailyFixedNoMissing.txt\")"
   ]
  },
  {
   "cell_type": "code",
   "execution_count": 112,
   "metadata": {},
   "outputs": [],
   "source": [
    "\n"
   ]
  },
  {
   "cell_type": "code",
   "execution_count": 4,
   "metadata": {},
   "outputs": [],
   "source": [
    "#method to correct columns of non-rain data\n",
    "def fixData(fileName):\n",
    "    file = open(fileName)\n",
    "    newFile=open(fileName[:-4]+\"Fixed.txt\", 'w')\n",
    "    for line in file:\n",
    "    #newFile.write(line[0:10])\n",
    "        newFile.write(line[0:4] + \",\" + line[4:6] + \",\" + line[6:8] + line[8:len(line)] )\n",
    "\n",
    "    newFile.close()\n",
    "    file.close()\n",
    "    return"
   ]
  },
  {
   "cell_type": "code",
   "execution_count": 34,
   "metadata": {},
   "outputs": [],
   "source": [
    "fixData(\"C:\\\\Users\\\\Tyler\\\\ProjectData\\\\BECmax.txt\")\n",
    "fixData(\"C:\\\\Users\\\\Tyler\\\\ProjectData\\\\BECaverage.txt\")\n",
    "fixData(\"C:\\\\Users\\\\Tyler\\\\ProjectData\\\\BECmin.txt\")\n",
    "fixData(\"C:\\\\Users\\\\Tyler\\\\ProjectData\\\\FMCmax.txt\")\n",
    "fixData(\"C:\\\\Users\\\\Tyler\\\\ProjectData\\\\FMCaverage.txt\")\n",
    "fixData(\"C:\\\\Users\\\\Tyler\\\\ProjectData\\\\FMCmin.txt\")"
   ]
  },
  {
   "cell_type": "code",
   "execution_count": 89,
   "metadata": {},
   "outputs": [],
   "source": [
    "#Method to remove missing data\n",
    "def removeMissing(fileName):\n",
    "    file = open(fileName)\n",
    "    newFile=open(fileName[:-4]+\"NoMissing.txt\", 'w')\n",
    "    for line in file:\n",
    "        if line.find('m') == -1:\n",
    "            newFile.write(line)\n",
    "    \n",
    "    newFile.close()\n",
    "    file.close()\n",
    "    return"
   ]
  },
  {
   "cell_type": "code",
   "execution_count": 117,
   "metadata": {},
   "outputs": [
    {
     "data": {
      "text/html": [
       "<div>\n",
       "<style scoped>\n",
       "    .dataframe tbody tr th:only-of-type {\n",
       "        vertical-align: middle;\n",
       "    }\n",
       "\n",
       "    .dataframe tbody tr th {\n",
       "        vertical-align: top;\n",
       "    }\n",
       "\n",
       "    .dataframe thead th {\n",
       "        text-align: right;\n",
       "    }\n",
       "</style>\n",
       "<table border=\"1\" class=\"dataframe\">\n",
       "  <thead>\n",
       "    <tr style=\"text-align: right;\">\n",
       "      <th></th>\n",
       "      <th>Year</th>\n",
       "      <th>Month</th>\n",
       "      <th>Day</th>\n",
       "      <th>'TEMPERATURE_x</th>\n",
       "      <th>AIR AVERAGE (deg f)'</th>\n",
       "      <th>'TEMPERATURE_y</th>\n",
       "      <th>AIR MINIMUM (deg f)'</th>\n",
       "      <th>'TEMPERATURE</th>\n",
       "      <th>AIR MAXIMUM (deg f)'</th>\n",
       "      <th>Rain</th>\n",
       "    </tr>\n",
       "  </thead>\n",
       "  <tbody>\n",
       "    <tr>\n",
       "      <th>0</th>\n",
       "      <td>2006</td>\n",
       "      <td>1</td>\n",
       "      <td>1</td>\n",
       "      <td>0</td>\n",
       "      <td>52</td>\n",
       "      <td>0</td>\n",
       "      <td>47</td>\n",
       "      <td>0</td>\n",
       "      <td>60</td>\n",
       "      <td>0.48</td>\n",
       "    </tr>\n",
       "    <tr>\n",
       "      <th>1</th>\n",
       "      <td>2006</td>\n",
       "      <td>1</td>\n",
       "      <td>2</td>\n",
       "      <td>0</td>\n",
       "      <td>51</td>\n",
       "      <td>0</td>\n",
       "      <td>48</td>\n",
       "      <td>0</td>\n",
       "      <td>54</td>\n",
       "      <td>0.48</td>\n",
       "    </tr>\n",
       "    <tr>\n",
       "      <th>2</th>\n",
       "      <td>2006</td>\n",
       "      <td>1</td>\n",
       "      <td>3</td>\n",
       "      <td>0</td>\n",
       "      <td>51</td>\n",
       "      <td>0</td>\n",
       "      <td>45</td>\n",
       "      <td>0</td>\n",
       "      <td>62</td>\n",
       "      <td>0.48</td>\n",
       "    </tr>\n",
       "    <tr>\n",
       "      <th>3</th>\n",
       "      <td>2006</td>\n",
       "      <td>1</td>\n",
       "      <td>4</td>\n",
       "      <td>0</td>\n",
       "      <td>66</td>\n",
       "      <td>0</td>\n",
       "      <td>53</td>\n",
       "      <td>0</td>\n",
       "      <td>81</td>\n",
       "      <td>0.48</td>\n",
       "    </tr>\n",
       "    <tr>\n",
       "      <th>4</th>\n",
       "      <td>2006</td>\n",
       "      <td>1</td>\n",
       "      <td>5</td>\n",
       "      <td>0</td>\n",
       "      <td>71</td>\n",
       "      <td>0</td>\n",
       "      <td>65</td>\n",
       "      <td>0</td>\n",
       "      <td>78</td>\n",
       "      <td>0.48</td>\n",
       "    </tr>\n",
       "  </tbody>\n",
       "</table>\n",
       "</div>"
      ],
      "text/plain": [
       "   Year  Month  Day  'TEMPERATURE_x  AIR AVERAGE (deg f)'  'TEMPERATURE_y  \\\n",
       "0  2006      1    1               0                    52               0   \n",
       "1  2006      1    2               0                    51               0   \n",
       "2  2006      1    3               0                    51               0   \n",
       "3  2006      1    4               0                    66               0   \n",
       "4  2006      1    5               0                    71               0   \n",
       "\n",
       "   AIR MINIMUM (deg f)'  'TEMPERATURE  AIR MAXIMUM (deg f)'  Rain  \n",
       "0                    47             0                    60  0.48  \n",
       "1                    48             0                    54  0.48  \n",
       "2                    45             0                    62  0.48  \n",
       "3                    53             0                    81  0.48  \n",
       "4                    65             0                    78  0.48  "
      ]
     },
     "execution_count": 117,
     "metadata": {},
     "output_type": "execute_result"
    }
   ],
   "source": [
    "#Read in files\n",
    "BEC_average_temp = pd.read_csv(\"C:\\\\Users\\\\Tyler\\\\ProjectData\\\\CleanedData\\\\BECaverageFixed.txt\")\n",
    "BEC_min_temp = pd.read_csv(\"C:\\\\Users\\\\Tyler\\\\ProjectData\\\\CleanedData\\\\BECminFixed.txt\")\n",
    "BEC_max_temp = pd.read_csv(\"C:\\\\Users\\\\Tyler\\\\ProjectData\\\\CleanedData\\\\BECmaxFixed.txt\")\n",
    "BEC_rain=pd.read_csv(\"C:\\\\Users\\\\Tyler\\\\ProjectData\\\\CleanedData\\\\BECrainDailyFixedNoMissingMonthly.txt\")\n",
    "\n",
    "#Collect data\n",
    "BEC_data = BEC_average_temp\n",
    "BEC_data = pd.merge(BEC_data, BEC_min_temp, on= [\"Day\", 'Month', 'Year'])\n",
    "BEC_data = pd.merge(BEC_data, BEC_max_temp, on= [\"Day\", 'Month', 'Year'])\n",
    "BEC_data = pd.merge(BEC_data, BEC_rain, on= ['Month', 'Year'])\n",
    "BEC_data.head()\n",
    "BEC_data.to_csv(\"C:\\\\Users\\\\Tyler\\\\ProjectData\\\\CleanedData\\\\BECData.txt\")\n",
    "BEC_data.head()\n",
    "\n",
    "#Read in files\n",
    "FMC_min_temp = pd.read_csv(\"C:\\\\Users\\\\Tyler\\\\ProjectData\\\\CleanedData\\\\FMCminFixed.txt\")\n",
    "FMC_max_temp = pd.read_csv(\"C:\\\\Users\\\\Tyler\\\\ProjectData\\\\CleanedData\\\\FMCmaxFixed.txt\")\n",
    "FMC_average_temp = pd.read_csv(\"C:\\\\Users\\\\Tyler\\\\ProjectData\\\\CleanedData\\\\FMCaverageFixed.txt\")\n",
    "FMC_rain=pd.read_csv(\"C:\\\\Users\\\\Tyler\\\\ProjectData\\\\CleanedData\\\\FMCrainDailyFixedNoMissingMonthly.txt\")\n",
    "\n",
    "#Collect data\n",
    "FMC_data = FMC_average_temp\n",
    "FMC_data = pd.merge(FMC_data, FMC_min_temp, on= [\"Day\", 'Month', 'Year'])\n",
    "FMC_data = pd.merge(FMC_data, FMC_max_temp, on= [\"Day\", 'Month', 'Year'])\n",
    "FMC_data = pd.merge(FMC_data, FMC_rain, on= ['Month', 'Year'])\n",
    "FMC_data.head()\n",
    "FMC_data.to_csv(\"C:\\\\Users\\\\Tyler\\\\ProjectData\\\\CleanedData\\\\FMCData.txt\")\n",
    "FMC_data.head()"
   ]
  },
  {
   "cell_type": "code",
   "execution_count": 55,
   "metadata": {},
   "outputs": [],
   "source": [
    "BEC_data = open(\"C:\\\\Users\\\\Tyler\\\\ProjectData\\\\CleanedData\\\\BECData.txt\")\n",
    "\n",
    "#for now, chop out missing data\n",
    "newFile = open(\"C:\\\\Users\\\\Tyler\\\\ProjectData\\\\CleanedData\\\\BECDataNoMissing.txt\", 'w')\n",
    "for line in BEC_data:\n",
    "    if line.find('m'):\n",
    "        newFile.write(line)\n",
    "    \n",
    "newFile.close()\n",
    "BEC_data.close()"
   ]
  },
  {
   "cell_type": "code",
   "execution_count": 118,
   "metadata": {},
   "outputs": [],
   "source": [
    "FMC_data = open(\"C:\\\\Users\\\\Tyler\\\\ProjectData\\\\CleanedData\\\\FMCData.txt\")\n",
    "\n",
    "#for now, chop out missing data\n",
    "#newcontents = contents.replace('m','0')\n",
    "newFile = open(\"C:\\\\Users\\\\Tyler\\\\ProjectData\\\\CleanedData\\\\FMCDataNoMissing.txt\", 'w')\n",
    "for line in BEC_data:\n",
    "    if line.find('m'):\n",
    "        newFile.write(line)\n",
    "    \n",
    "newFile.close()\n",
    "FMC_data.close()"
   ]
  },
  {
   "cell_type": "code",
   "execution_count": 56,
   "metadata": {},
   "outputs": [],
   "source": [
    "removeMissing(\"C:\\\\Users\\\\Tyler\\\\ProjectData\\\\CleanedData\\\\BECData.txt\")"
   ]
  },
  {
   "cell_type": "code",
   "execution_count": 121,
   "metadata": {},
   "outputs": [],
   "source": [
    "removeMissing(\"C:\\\\Users\\\\Tyler\\\\ProjectData\\\\CleanedData\\\\FMCData.txt\")"
   ]
  },
  {
   "cell_type": "code",
   "execution_count": 3,
   "metadata": {},
   "outputs": [
    {
     "ename": "AttributeError",
     "evalue": "'DataFrame' object has no attribute 'rain'",
     "output_type": "error",
     "traceback": [
      "\u001b[1;31m---------------------------------------------------------------------------\u001b[0m",
      "\u001b[1;31mAttributeError\u001b[0m                            Traceback (most recent call last)",
      "\u001b[1;32m<ipython-input-3-b44975e301ed>\u001b[0m in \u001b[0;36m<module>\u001b[1;34m()\u001b[0m\n\u001b[0;32m     18\u001b[0m \u001b[1;33m\u001b[0m\u001b[0m\n\u001b[0;32m     19\u001b[0m \u001b[1;32mfor\u001b[0m \u001b[0mi\u001b[0m \u001b[1;32min\u001b[0m \u001b[0mrange\u001b[0m \u001b[1;33m(\u001b[0m\u001b[1;36m1\u001b[0m\u001b[1;33m,\u001b[0m\u001b[0mlen\u001b[0m\u001b[1;33m(\u001b[0m\u001b[0mrain_data\u001b[0m\u001b[1;33m.\u001b[0m\u001b[0mindex\u001b[0m\u001b[1;33m)\u001b[0m\u001b[1;33m)\u001b[0m\u001b[1;33m:\u001b[0m\u001b[1;33m\u001b[0m\u001b[0m\n\u001b[1;32m---> 20\u001b[1;33m     \u001b[0mnewFile\u001b[0m\u001b[1;33m.\u001b[0m\u001b[0mwrite\u001b[0m\u001b[1;33m(\u001b[0m\u001b[0mstr\u001b[0m\u001b[1;33m(\u001b[0m\u001b[0mrain_data\u001b[0m\u001b[1;33m.\u001b[0m\u001b[0mrain\u001b[0m\u001b[1;33m[\u001b[0m\u001b[0mi\u001b[0m\u001b[1;33m]\u001b[0m\u001b[1;33m)\u001b[0m\u001b[1;33m+\u001b[0m\u001b[1;34m\"\\n\"\u001b[0m\u001b[1;33m)\u001b[0m\u001b[1;33m\u001b[0m\u001b[0m\n\u001b[0m\u001b[0;32m     21\u001b[0m \u001b[0mnewFile\u001b[0m\u001b[1;33m.\u001b[0m\u001b[0mwrite\u001b[0m\u001b[1;33m(\u001b[0m\u001b[1;34m\"0\"\u001b[0m\u001b[1;33m)\u001b[0m\u001b[1;33m\u001b[0m\u001b[0m\n\u001b[0;32m     22\u001b[0m \u001b[0mnewFile\u001b[0m\u001b[1;33m.\u001b[0m\u001b[0mclose\u001b[0m\u001b[1;33m(\u001b[0m\u001b[1;33m)\u001b[0m\u001b[1;33m\u001b[0m\u001b[0m\n",
      "\u001b[1;32mC:\\ProgramData\\Anaconda3\\lib\\site-packages\\pandas\\core\\generic.py\u001b[0m in \u001b[0;36m__getattr__\u001b[1;34m(self, name)\u001b[0m\n\u001b[0;32m   3612\u001b[0m             \u001b[1;32mif\u001b[0m \u001b[0mname\u001b[0m \u001b[1;32min\u001b[0m \u001b[0mself\u001b[0m\u001b[1;33m.\u001b[0m\u001b[0m_info_axis\u001b[0m\u001b[1;33m:\u001b[0m\u001b[1;33m\u001b[0m\u001b[0m\n\u001b[0;32m   3613\u001b[0m                 \u001b[1;32mreturn\u001b[0m \u001b[0mself\u001b[0m\u001b[1;33m[\u001b[0m\u001b[0mname\u001b[0m\u001b[1;33m]\u001b[0m\u001b[1;33m\u001b[0m\u001b[0m\n\u001b[1;32m-> 3614\u001b[1;33m             \u001b[1;32mreturn\u001b[0m \u001b[0mobject\u001b[0m\u001b[1;33m.\u001b[0m\u001b[0m__getattribute__\u001b[0m\u001b[1;33m(\u001b[0m\u001b[0mself\u001b[0m\u001b[1;33m,\u001b[0m \u001b[0mname\u001b[0m\u001b[1;33m)\u001b[0m\u001b[1;33m\u001b[0m\u001b[0m\n\u001b[0m\u001b[0;32m   3615\u001b[0m \u001b[1;33m\u001b[0m\u001b[0m\n\u001b[0;32m   3616\u001b[0m     \u001b[1;32mdef\u001b[0m \u001b[0m__setattr__\u001b[0m\u001b[1;33m(\u001b[0m\u001b[0mself\u001b[0m\u001b[1;33m,\u001b[0m \u001b[0mname\u001b[0m\u001b[1;33m,\u001b[0m \u001b[0mvalue\u001b[0m\u001b[1;33m)\u001b[0m\u001b[1;33m:\u001b[0m\u001b[1;33m\u001b[0m\u001b[0m\n",
      "\u001b[1;31mAttributeError\u001b[0m: 'DataFrame' object has no attribute 'rain'"
     ]
    }
   ],
   "source": [
    "#print(BEC_data.drop(columns=['\\'TEMPERATURE_x','\\'TEMPERATURE','\\'TEMPERATURE_y']).query('Day==1').head())\n",
    "\n",
    "BEC_data = open(\"C:\\\\Users\\\\Tyler\\\\ProjectData\\\\CleanedData\\\\BECDataNoMissing.txt\")\n",
    "#contents = BEC_data.read()\n",
    "#newcontents = contents.replace('m','0')\n",
    "\n",
    "#newFile = open(\"C:\\\\Users\\\\Tyler\\\\ProjectData\\\\CleanedData\\\\BECDataNoMissing.txt\", 'w')\n",
    "#newFile.write(newcontents)\n",
    "#newFile.close()\n",
    "#BEC_data.close()\n",
    "\n",
    "BEC_data=pd.read_csv(\"C:\\\\Users\\\\Tyler\\\\ProjectData\\\\CleanedData\\\\BECDataNoMissing.txt\")\n",
    "\n",
    "\n",
    "rain_data=pd.read_csv(\"C:\\\\Users\\\\Tyler\\\\ProjectData\\\\CleanedData\\\\BECrainDailyFixedNoMissingMonthly.txt\")\n",
    "newFile=open(\"C:\\\\Users\\\\Tyler\\\\ProjectData\\\\CleanedData\\\\BECRain.txt\", 'w')\n",
    "newFile.write('rain\\n')\n",
    "\n",
    "for i in range (1,len(rain_data.index)):\n",
    "    newFile.write(str(rain_data.rain[i])+\"\\n\")\n",
    "newFile.write(\"0\")\n",
    "newFile.close()"
   ]
  },
  {
   "cell_type": "code",
   "execution_count": 122,
   "metadata": {},
   "outputs": [
    {
     "ename": "AttributeError",
     "evalue": "'DataFrame' object has no attribute 'rain'",
     "output_type": "error",
     "traceback": [
      "\u001b[1;31m---------------------------------------------------------------------------\u001b[0m",
      "\u001b[1;31mAttributeError\u001b[0m                            Traceback (most recent call last)",
      "\u001b[1;32m<ipython-input-122-7e63a60247e1>\u001b[0m in \u001b[0;36m<module>\u001b[1;34m()\u001b[0m\n\u001b[0;32m     18\u001b[0m \u001b[1;33m\u001b[0m\u001b[0m\n\u001b[0;32m     19\u001b[0m \u001b[1;32mfor\u001b[0m \u001b[0mi\u001b[0m \u001b[1;32min\u001b[0m \u001b[0mrange\u001b[0m \u001b[1;33m(\u001b[0m\u001b[1;36m1\u001b[0m\u001b[1;33m,\u001b[0m\u001b[0mlen\u001b[0m\u001b[1;33m(\u001b[0m\u001b[0mrain_data\u001b[0m\u001b[1;33m.\u001b[0m\u001b[0mindex\u001b[0m\u001b[1;33m)\u001b[0m\u001b[1;33m)\u001b[0m\u001b[1;33m:\u001b[0m\u001b[1;33m\u001b[0m\u001b[0m\n\u001b[1;32m---> 20\u001b[1;33m     \u001b[0mnewFile\u001b[0m\u001b[1;33m.\u001b[0m\u001b[0mwrite\u001b[0m\u001b[1;33m(\u001b[0m\u001b[0mstr\u001b[0m\u001b[1;33m(\u001b[0m\u001b[0mrain_data\u001b[0m\u001b[1;33m.\u001b[0m\u001b[0mrain\u001b[0m\u001b[1;33m[\u001b[0m\u001b[0mi\u001b[0m\u001b[1;33m]\u001b[0m\u001b[1;33m)\u001b[0m\u001b[1;33m+\u001b[0m\u001b[1;34m\"\\n\"\u001b[0m\u001b[1;33m)\u001b[0m\u001b[1;33m\u001b[0m\u001b[0m\n\u001b[0m\u001b[0;32m     21\u001b[0m \u001b[0mnewFile\u001b[0m\u001b[1;33m.\u001b[0m\u001b[0mwrite\u001b[0m\u001b[1;33m(\u001b[0m\u001b[1;34m\"0\"\u001b[0m\u001b[1;33m)\u001b[0m\u001b[1;33m\u001b[0m\u001b[0m\n\u001b[0;32m     22\u001b[0m \u001b[0mnewFile\u001b[0m\u001b[1;33m.\u001b[0m\u001b[0mclose\u001b[0m\u001b[1;33m(\u001b[0m\u001b[1;33m)\u001b[0m\u001b[1;33m\u001b[0m\u001b[0m\n",
      "\u001b[1;32mC:\\ProgramData\\Anaconda3\\lib\\site-packages\\pandas\\core\\generic.py\u001b[0m in \u001b[0;36m__getattr__\u001b[1;34m(self, name)\u001b[0m\n\u001b[0;32m   3612\u001b[0m             \u001b[1;32mif\u001b[0m \u001b[0mname\u001b[0m \u001b[1;32min\u001b[0m \u001b[0mself\u001b[0m\u001b[1;33m.\u001b[0m\u001b[0m_info_axis\u001b[0m\u001b[1;33m:\u001b[0m\u001b[1;33m\u001b[0m\u001b[0m\n\u001b[0;32m   3613\u001b[0m                 \u001b[1;32mreturn\u001b[0m \u001b[0mself\u001b[0m\u001b[1;33m[\u001b[0m\u001b[0mname\u001b[0m\u001b[1;33m]\u001b[0m\u001b[1;33m\u001b[0m\u001b[0m\n\u001b[1;32m-> 3614\u001b[1;33m             \u001b[1;32mreturn\u001b[0m \u001b[0mobject\u001b[0m\u001b[1;33m.\u001b[0m\u001b[0m__getattribute__\u001b[0m\u001b[1;33m(\u001b[0m\u001b[0mself\u001b[0m\u001b[1;33m,\u001b[0m \u001b[0mname\u001b[0m\u001b[1;33m)\u001b[0m\u001b[1;33m\u001b[0m\u001b[0m\n\u001b[0m\u001b[0;32m   3615\u001b[0m \u001b[1;33m\u001b[0m\u001b[0m\n\u001b[0;32m   3616\u001b[0m     \u001b[1;32mdef\u001b[0m \u001b[0m__setattr__\u001b[0m\u001b[1;33m(\u001b[0m\u001b[0mself\u001b[0m\u001b[1;33m,\u001b[0m \u001b[0mname\u001b[0m\u001b[1;33m,\u001b[0m \u001b[0mvalue\u001b[0m\u001b[1;33m)\u001b[0m\u001b[1;33m:\u001b[0m\u001b[1;33m\u001b[0m\u001b[0m\n",
      "\u001b[1;31mAttributeError\u001b[0m: 'DataFrame' object has no attribute 'rain'"
     ]
    }
   ],
   "source": [
    "\n",
    "FMC_data = open(\"C:\\\\Users\\\\Tyler\\\\ProjectData\\\\CleanedData\\\\FMCDataNoMissing.txt\")\n",
    "\n",
    "\n",
    "FMC_data=pd.read_csv(\"C:\\\\Users\\\\Tyler\\\\ProjectData\\\\CleanedData\\\\FMCDataNoMissing.txt\"\n",
    "\n",
    "rain_data=pd.read_csv(\"C:\\\\Users\\\\Tyler\\\\ProjectData\\\\CleanedData\\\\FMCrainDailyFixedNoMissingMonthly.txt\")\n",
    "newFile=open(\"C:\\\\Users\\\\Tyler\\\\ProjectData\\\\CleanedData\\\\FMCRain.txt\", 'w')\n",
    "newFile.write('rain\\n')\n",
    "\n",
    "for i in range (1,len(rain_data.index)):\n",
    "    newFile.write(str(rain_data.rain[i])+\"\\n\")\n",
    "newFile.write(\"0\")\n",
    "newFile.close()"
   ]
  },
  {
   "cell_type": "code",
   "execution_count": 4,
   "metadata": {},
   "outputs": [],
   "source": [
    "BEC_data = open(\"C:\\\\Users\\\\Tyler\\\\ProjectData\\\\CleanedData\\\\BECDataNoMissing.txt\")\n",
    "contents = BEC_data.read()\n",
    "newcontents = contents.replace('m','0')\n",
    "\n",
    "newFile = open(\"C:\\\\Users\\\\Tyler\\\\ProjectData\\\\CleanedData\\\\BECDataNoMissing.txt\", 'w')\n",
    "newFile.write(newcontents)\n",
    "newFile.close()\n",
    "BEC_data.close()"
   ]
  },
  {
   "cell_type": "code",
   "execution_count": 3,
   "metadata": {},
   "outputs": [
    {
     "data": {
      "text/html": [
       "<div>\n",
       "<style scoped>\n",
       "    .dataframe tbody tr th:only-of-type {\n",
       "        vertical-align: middle;\n",
       "    }\n",
       "\n",
       "    .dataframe tbody tr th {\n",
       "        vertical-align: top;\n",
       "    }\n",
       "\n",
       "    .dataframe thead th {\n",
       "        text-align: right;\n",
       "    }\n",
       "</style>\n",
       "<table border=\"1\" class=\"dataframe\">\n",
       "  <thead>\n",
       "    <tr style=\"text-align: right;\">\n",
       "      <th></th>\n",
       "      <th>Year</th>\n",
       "      <th>Month</th>\n",
       "      <th>AIR AVERAGE (deg f)</th>\n",
       "      <th>AIR MINIMUM (deg f)</th>\n",
       "      <th>AIR MAXIMUM (deg f)</th>\n",
       "      <th>rain</th>\n",
       "    </tr>\n",
       "  </thead>\n",
       "  <tbody>\n",
       "    <tr>\n",
       "      <th>0</th>\n",
       "      <td>2006</td>\n",
       "      <td>1</td>\n",
       "      <td>55</td>\n",
       "      <td>49</td>\n",
       "      <td>61</td>\n",
       "      <td>0.94</td>\n",
       "    </tr>\n",
       "    <tr>\n",
       "      <th>31</th>\n",
       "      <td>2006</td>\n",
       "      <td>2</td>\n",
       "      <td>55</td>\n",
       "      <td>48</td>\n",
       "      <td>68</td>\n",
       "      <td>0.36</td>\n",
       "    </tr>\n",
       "    <tr>\n",
       "      <th>59</th>\n",
       "      <td>2006</td>\n",
       "      <td>5</td>\n",
       "      <td>56</td>\n",
       "      <td>54</td>\n",
       "      <td>59</td>\n",
       "      <td>0.03</td>\n",
       "    </tr>\n",
       "    <tr>\n",
       "      <th>83</th>\n",
       "      <td>2006</td>\n",
       "      <td>7</td>\n",
       "      <td>79</td>\n",
       "      <td>64</td>\n",
       "      <td>100</td>\n",
       "      <td>0.02</td>\n",
       "    </tr>\n",
       "    <tr>\n",
       "      <th>114</th>\n",
       "      <td>2006</td>\n",
       "      <td>8</td>\n",
       "      <td>71</td>\n",
       "      <td>65</td>\n",
       "      <td>79</td>\n",
       "      <td>0.03</td>\n",
       "    </tr>\n",
       "  </tbody>\n",
       "</table>\n",
       "</div>"
      ],
      "text/plain": [
       "     Year  Month   AIR AVERAGE (deg f)   AIR MINIMUM (deg f)  \\\n",
       "0    2006      1                    55                    49   \n",
       "31   2006      2                    55                    48   \n",
       "59   2006      5                    56                    54   \n",
       "83   2006      7                    79                    64   \n",
       "114  2006      8                    71                    65   \n",
       "\n",
       "      AIR MAXIMUM (deg f)  rain  \n",
       "0                      61  0.94  \n",
       "31                     68  0.36  \n",
       "59                     59  0.03  \n",
       "83                    100  0.02  \n",
       "114                    79  0.03  "
      ]
     },
     "execution_count": 3,
     "metadata": {},
     "output_type": "execute_result"
    }
   ],
   "source": [
    "#Start working with data\n",
    "\n",
    "#Collect data from all sources\n",
    "BEC_data=pd.read_csv(\"C:\\\\Users\\\\Tyler\\\\ProjectData\\\\CleanedData\\\\BECDataNoMissing.txt\")\n",
    "BEC_data=BEC_data.query('Day==1').drop(['Day', '\\'TEMPERATURE_x','\\'TEMPERATURE_y','\\'TEMPERATURE','A'],axis=1)\n",
    "BEC_data.head()"
   ]
  },
  {
   "cell_type": "code",
   "execution_count": 4,
   "metadata": {},
   "outputs": [
    {
     "data": {
      "text/html": [
       "<div>\n",
       "<style scoped>\n",
       "    .dataframe tbody tr th:only-of-type {\n",
       "        vertical-align: middle;\n",
       "    }\n",
       "\n",
       "    .dataframe tbody tr th {\n",
       "        vertical-align: top;\n",
       "    }\n",
       "\n",
       "    .dataframe thead th {\n",
       "        text-align: right;\n",
       "    }\n",
       "</style>\n",
       "<table border=\"1\" class=\"dataframe\">\n",
       "  <thead>\n",
       "    <tr style=\"text-align: right;\">\n",
       "      <th></th>\n",
       "      <th>Year</th>\n",
       "      <th>Month</th>\n",
       "      <th>AIR AVERAGE (deg f)</th>\n",
       "      <th>AIR MINIMUM (deg f)</th>\n",
       "      <th>AIR MAXIMUM (deg f)</th>\n",
       "      <th>rain</th>\n",
       "    </tr>\n",
       "  </thead>\n",
       "  <tbody>\n",
       "    <tr>\n",
       "      <th>0</th>\n",
       "      <td>2006</td>\n",
       "      <td>1</td>\n",
       "      <td>52</td>\n",
       "      <td>47</td>\n",
       "      <td>60</td>\n",
       "      <td>0.48</td>\n",
       "    </tr>\n",
       "    <tr>\n",
       "      <th>31</th>\n",
       "      <td>2006</td>\n",
       "      <td>3</td>\n",
       "      <td>52</td>\n",
       "      <td>45</td>\n",
       "      <td>62</td>\n",
       "      <td>0.46</td>\n",
       "    </tr>\n",
       "    <tr>\n",
       "      <th>62</th>\n",
       "      <td>2006</td>\n",
       "      <td>4</td>\n",
       "      <td>49</td>\n",
       "      <td>44</td>\n",
       "      <td>59</td>\n",
       "      <td>1.31</td>\n",
       "    </tr>\n",
       "    <tr>\n",
       "      <th>92</th>\n",
       "      <td>2006</td>\n",
       "      <td>6</td>\n",
       "      <td>74</td>\n",
       "      <td>61</td>\n",
       "      <td>87</td>\n",
       "      <td>0.05</td>\n",
       "    </tr>\n",
       "    <tr>\n",
       "      <th>122</th>\n",
       "      <td>2006</td>\n",
       "      <td>7</td>\n",
       "      <td>87</td>\n",
       "      <td>70</td>\n",
       "      <td>102</td>\n",
       "      <td>0.07</td>\n",
       "    </tr>\n",
       "  </tbody>\n",
       "</table>\n",
       "</div>"
      ],
      "text/plain": [
       "     Year  Month   AIR AVERAGE (deg f)   AIR MINIMUM (deg f)  \\\n",
       "0    2006      1                    52                    47   \n",
       "31   2006      3                    52                    45   \n",
       "62   2006      4                    49                    44   \n",
       "92   2006      6                    74                    61   \n",
       "122  2006      7                    87                    70   \n",
       "\n",
       "      AIR MAXIMUM (deg f)  rain  \n",
       "0                      60  0.48  \n",
       "31                     62  0.46  \n",
       "62                     59  1.31  \n",
       "92                     87  0.05  \n",
       "122                   102  0.07  "
      ]
     },
     "execution_count": 4,
     "metadata": {},
     "output_type": "execute_result"
    }
   ],
   "source": [
    "FMC_data=pd.read_csv(\"C:\\\\Users\\\\Tyler\\\\ProjectData\\\\CleanedData\\\\FMCDataNoMissing.txt\")\n",
    "FMC_data=FMC_data.query('Day==1').drop(['Day', '\\'TEMPERATURE_x','\\'TEMPERATURE_y','\\'TEMPERATURE','A'],axis=1)\n",
    "FMC_data.head()"
   ]
  },
  {
   "cell_type": "code",
   "execution_count": 5,
   "metadata": {},
   "outputs": [
    {
     "name": "stdout",
     "output_type": "stream",
     "text": [
      "      Year  Month   AIR AVERAGE (deg f)   AIR MINIMUM (deg f)  \\\n",
      "0     2006      1                    55                    49   \n",
      "31    2006      2                    55                    48   \n",
      "59    2006      5                    56                    54   \n",
      "83    2006      7                    79                    64   \n",
      "114   2006      8                    71                    65   \n",
      "145   2006     11                    61                    53   \n",
      "175   2006     12                    61                    50   \n",
      "206   2007      1                    58                    45   \n",
      "237   2007      2                    50                    44   \n",
      "265   2007      3                    48                    38   \n",
      "296   2007      4                    59                    42   \n",
      "326   2007      9                    86                    70   \n",
      "338   2007     10                    69                    57   \n",
      "354   2007     12                    50                    43   \n",
      "385   2008      1                    65                    60   \n",
      "416   2008      2                    48                    41   \n",
      "445   2008      3                    52                    50   \n",
      "476   2008      4                    51                    43   \n",
      "489   2008      5                    61                    50   \n",
      "520   2008     10                    85                    72   \n",
      "551   2008     11                    75                    66   \n",
      "581   2009      1                    55                    42   \n",
      "612   2009      2                    60                    45   \n",
      "640   2009      3                    71                    60   \n",
      "671   2009      4                    55                    45   \n",
      "701   2009      5                    64                    51   \n",
      "732   2009      6                    62                    56   \n",
      "762   2009     10                    76                    59   \n",
      "793   2009     11                    73                    63   \n",
      "823   2010      1                    60                    53   \n",
      "...    ...    ...                   ...                   ...   \n",
      "2417  2015      1                    47                    42   \n",
      "2448  2015      2                    65                    59   \n",
      "2476  2015      3                    50                    47   \n",
      "2507  2015      4                    60                    50   \n",
      "2537  2015      5                    78                    69   \n",
      "2568  2015      6                    63                    54   \n",
      "2598  2015      7                    75                    66   \n",
      "2629  2015      8                    70                    62   \n",
      "2660  2015      9                    68                    61   \n",
      "2690  2015     10                    73                    65   \n",
      "2721  2015     11                    74                    66   \n",
      "2751  2015     12                    61                    53   \n",
      "2782  2016      1                    52                    46   \n",
      "2813  2016      2                    46                    40   \n",
      "2842  2016      3                    69                    62   \n",
      "2873  2016      4                    59                    50   \n",
      "2903  2016      5                    58                    50   \n",
      "2934  2016      6                    62                    55   \n",
      "2964  2016     10                    73                    64   \n",
      "2995  2016     11                    57                    52   \n",
      "3025  2016     12                    53                    49   \n",
      "3056  2017      1                    47                    42   \n",
      "3087  2017      2                    59                    51   \n",
      "3114  2017      3                    58                    50   \n",
      "3145  2017      4                    62                    53   \n",
      "3175  2017      5                    73                    64   \n",
      "3206  2017      6                    60                    55   \n",
      "3236  2017      9                    93                    82   \n",
      "3266  2017     10                    63                    56   \n",
      "3297  2017     11                    59                    55   \n",
      "\n",
      "       AIR MAXIMUM (deg f)  rain  \n",
      "0                       61  0.94  \n",
      "31                      68  0.36  \n",
      "59                      59  0.03  \n",
      "83                     100  0.02  \n",
      "114                     79  0.03  \n",
      "145                     75  0.07  \n",
      "175                     76  0.73  \n",
      "206                     65  0.44  \n",
      "237                     59  1.53  \n",
      "265                     60  0.29  \n",
      "296                     76  0.80  \n",
      "326                    103  0.32  \n",
      "338                     85  0.22  \n",
      "354                     57  1.29  \n",
      "385                     75  4.59  \n",
      "416                     56  2.15  \n",
      "445                     58  0.06  \n",
      "476                     64  0.04  \n",
      "489                     72  0.60  \n",
      "520                    100  0.01  \n",
      "551                     88  1.63  \n",
      "581                     71  0.18  \n",
      "612                     72  3.80  \n",
      "640                     84  0.07  \n",
      "671                     68  0.08  \n",
      "701                     80  0.03  \n",
      "732                     76  0.02  \n",
      "762                     94  0.22  \n",
      "793                     88  0.13  \n",
      "823                     75  5.86  \n",
      "...                    ...   ...  \n",
      "2417                    54  1.17  \n",
      "2448                    74  0.52  \n",
      "2476                    56  0.29  \n",
      "2507                    74  0.61  \n",
      "2537                    90  0.73  \n",
      "2568                    76  0.03  \n",
      "2598                    83  1.15  \n",
      "2629                    82  0.03  \n",
      "2660                    80  2.01  \n",
      "2690                    85  0.47  \n",
      "2721                    83  0.13  \n",
      "2751                    69  1.12  \n",
      "2782                    60  2.78  \n",
      "2813                    53  0.37  \n",
      "2842                    79  1.28  \n",
      "2873                    70  0.25  \n",
      "2903                    70  1.02  \n",
      "2934                    74  0.04  \n",
      "2964                    87  0.74  \n",
      "2995                    65  1.34  \n",
      "3025                    61  3.41  \n",
      "3056                    54  6.91  \n",
      "3087                    68  3.69  \n",
      "3114                    64  0.26  \n",
      "3145                    74  0.09  \n",
      "3175                    85  0.42  \n",
      "3206                    72  0.13  \n",
      "3236                   102  0.11  \n",
      "3266                    78  0.01  \n",
      "3297                    66  0.09  \n",
      "\n",
      "[222 rows x 6 columns]\n"
     ]
    }
   ],
   "source": [
    "\n",
    "print(pd.concat([BEC_data,FMC_data]))\n",
    "\n",
    "data=pd.concat([BEC_data,FMC_data])"
   ]
  },
  {
   "cell_type": "code",
   "execution_count": 38,
   "metadata": {},
   "outputs": [
    {
     "name": "stdout",
     "output_type": "stream",
     "text": [
      "Index(['Year', 'Month', ' AIR AVERAGE (deg f)', ' AIR MINIMUM (deg f)',\n",
      "       ' AIR MAXIMUM (deg f)', 'rain'],\n",
      "      dtype='object')\n",
      "['Year', 'Month', ' AIR AVERAGE (deg f)', ' AIR MINIMUM (deg f)', ' AIR MAXIMUM (deg f)', 'rain']\n"
     ]
    },
    {
     "data": {
      "text/plain": [
       "['Year,Month, AIR AVERAGE (deg f), AIR MINIMUM (deg f), AIR MAXIMUM (deg f)']"
      ]
     },
     "execution_count": 38,
     "metadata": {},
     "output_type": "execute_result"
    }
   ],
   "source": [
    "#Create X and Y\n",
    "\n",
    "X = data.drop(columns=['rain'])\n",
    "y=data.dropna(axis=1)[\"rain\"]\n",
    "X.head()\n",
    "\n"
   ]
  },
  {
   "cell_type": "code",
   "execution_count": 7,
   "metadata": {},
   "outputs": [
    {
     "name": "stdout",
     "output_type": "stream",
     "text": [
      "[0.94 0.36 0.03 0.02 0.03 0.07 0.73 0.44 1.53 0.29 0.8  0.32 0.22 1.29\n",
      " 4.59 2.15 0.06 0.04 0.6  0.01 1.63 0.18 3.8  0.07 0.08 0.03 0.02 0.22\n",
      " 0.13 5.86 3.76 0.18 1.29 0.04 0.02 0.03 0.01 0.03 3.38 1.49 0.74 2.98\n",
      " 2.53 0.34 0.52 0.08 0.01 0.01 0.2  1.12 2.03 0.25 1.05 1.17 2.16 1.33\n",
      " 0.19 0.4  0.02 0.33 0.44 2.38 1.07 0.8  0.91 0.05 0.34 0.02 0.02 0.01\n",
      " 0.71 0.44 0.02 0.36 0.65 0.26 0.05 0.14 0.17 0.02 0.26 4.39 0.88 0.99\n",
      " 0.36 0.07 0.71 0.02 0.72 0.03 0.91 0.64 0.53 1.5  2.79 0.27 1.28 0.29\n",
      " 0.16 0.03 0.03 0.3  1.42 5.35 9.07 3.78 0.15 0.01 1.05 0.09 0.04 0.13\n",
      " 0.06 0.48 0.46 1.31 0.05 0.07 0.87 0.05 0.83 0.15 0.55 0.02 0.26 0.44\n",
      " 0.62 3.74 1.3  0.01 0.03 0.29 1.74 0.22 3.26 0.28 0.03 0.09 0.04 0.42\n",
      " 0.05 5.46 3.51 0.73 1.44 0.06 0.01 0.03 0.01 0.07 1.7  1.25 0.75 2.25\n",
      " 2.41 0.12 0.61 0.1  0.02 0.12 0.81 1.55 0.46 1.05 0.42 1.83 1.27 0.24\n",
      " 0.03 0.08 0.02 1.12 0.73 2.32 1.61 0.72 0.62 0.06 0.45 0.03 0.04 0.01\n",
      " 0.52 0.36 0.04 0.45 1.03 0.62 0.04 0.03 0.5  4.38 1.17 0.52 0.29 0.61\n",
      " 0.73 0.03 1.15 0.03 2.01 0.47 0.13 1.12 2.78 0.37 1.28 0.25 1.02 0.04\n",
      " 0.74 1.34 3.41 6.91 3.69 0.26 0.09 0.42 0.13 0.11 0.01 0.09]\n"
     ]
    }
   ],
   "source": [
    "y.head()\n",
    "print(np.asarray(y))\n"
   ]
  },
  {
   "cell_type": "code",
   "execution_count": 52,
   "metadata": {},
   "outputs": [
    {
     "name": "stdout",
     "output_type": "stream",
     "text": [
      "[-0.05246223 -0.28076605  0.0419232   0.06498776  0.11652662]\n",
      "LinearRegression(copy_X=True, fit_intercept=True, n_jobs=1, normalize=False)\n"
     ]
    }
   ],
   "source": [
    "from sklearn.ensemble import RandomForestRegressor\n",
    "from sklearn.model_selection import KFold\n",
    "from sklearn.model_selection import cross_val_score\n",
    "\n",
    "#Start off with linear regression\n",
    "\n",
    "n_folds = 5\n",
    "kf = KFold(n_folds)  # 5 fold classification... just because.\n",
    "\n",
    "\n",
    "\n",
    "X_train, X_test, y_train, y_test = train_test_split(np.asarray(X), np.asarray(y), test_size=0.2)\n",
    "from sklearn.linear_model import LinearRegression\n",
    "model=LinearRegression()\n",
    "\n",
    "print(cross_val_score(model, X, y, cv=kf))\n",
    "print(model)"
   ]
  },
  {
   "cell_type": "code",
   "execution_count": 53,
   "metadata": {},
   "outputs": [
    {
     "data": {
      "image/png": "[encoded data removed]",
      "text/plain": [
       "<matplotlib.figure.Figure at 0x12b19080>"
      ]
     },
     "metadata": {},
     "output_type": "display_data"
    }
   ],
   "source": [
    "#Ridge method from homework exercise\n",
    "\n",
    "# use k-fold validation on each value of alpha to determine the mean R^2.\n",
    "ridge_scores = []\n",
    "\n",
    "for alpha in alphas:\n",
    "    # initialize a ridge object below with the current alpha\n",
    "    this_alpha_scores = []\n",
    "    for train, validate in kf.split(X_train):\n",
    "        \n",
    "### YOUR CODE HERE ###\n",
    "        ridge = lm.Ridge(alpha=alpha)\n",
    "        ridge.fit(X_train[train], y_train[train])\n",
    "        # fit the ridge object on the training set and score on the validation set \n",
    "        scores = ridge.score(X_train[validate], y_train[validate])\n",
    "######################    \n",
    "    \n",
    "        this_alpha_scores.append(scores)\n",
    "    ridge_scores.append(this_alpha_scores)\n",
    "    \n",
    "ridge_scores = np.vstack(ridge_scores)\n",
    "\n",
    "ridge_bestalpha = alphas[ridge_scores.mean(1) == ridge_scores.mean(1).max()]  # the best alpha is the one the produces the highest score\n",
    "\n",
    "# plot the mean score against alpha candidates\n",
    "plt.figure(figsize=(6, 3))\n",
    "plt.plot(alphas, ridge_scores.mean(1), label='scores')\n",
    "plt.plot(ridge_bestalpha, ridge_scores.mean(1).max(), 'ro', label='alpha: ' + str(ridge_bestalpha))\n",
    "plt.xscale('log')\n",
    "plt.xlabel('alpha')\n",
    "plt.ylabel('k-fold R-squared')\n",
    "plt.title('Optimizing Ridge')\n",
    "plt.legend()\n",
    "plt.show()"
   ]
  },
  {
   "cell_type": "code",
   "execution_count": 51,
   "metadata": {},
   "outputs": [
    {
     "data": {
      "image/png": "[encoded data removed]",
      "text/plain": [
       "<matplotlib.figure.Figure at 0xc20fba8>"
      ]
     },
     "metadata": {},
     "output_type": "display_data"
    }
   ],
   "source": [
    "#Lasso method from homework exercise\n",
    "\n",
    "alphas = np.logspace(-3, 3, 20)\n",
    "# use k-fold validation on each value of alpha to determine the mean R^2.\n",
    "lasso_scores = []\n",
    "\n",
    "for alpha in alphas:\n",
    "    this_alpha_scores = []\n",
    "\n",
    "### YOUR CODE HERE ###\n",
    "    # loop through folds\n",
    "    for train, validate in kf.split(X_train):\n",
    "        \n",
    "        # initialize a ridge object below with the current alpha\n",
    "        lasso = lm.Lasso(alpha=alpha)\n",
    "        # fit the lasso object on the training set and score on the validation set \n",
    "        lasso.fit(X_train[train], y_train[train])\n",
    "        scores = lasso.score(X_train[validate], y_train[validate])\n",
    "######################    \n",
    "    \n",
    "        this_alpha_scores.append(scores)\n",
    "    lasso_scores.append(this_alpha_scores)\n",
    "    \n",
    "######################\n",
    "lasso_scores = np.vstack(lasso_scores)\n",
    "\n",
    "lasso_bestalpha = alphas[lasso_scores.mean(1) == lasso_scores.mean(1).max()]  # the best alpha is the one the produces the highest score\n",
    "\n",
    "# plot the mean score against alpha candidates\n",
    "plt.figure(figsize=(6, 3))\n",
    "plt.plot(alphas, lasso_scores.mean(1), label='scores')\n",
    "\n",
    "plt.xscale('log')\n",
    "plt.xlabel('alpha')\n",
    "plt.ylabel('k-fold R-squared')\n",
    "plt.title('Optimizing LASSO')\n",
    "plt.legend()\n",
    "plt.show()"
   ]
  },
  {
   "cell_type": "code",
   "execution_count": 242,
   "metadata": {},
   "outputs": [],
   "source": [
    "#Random Forest regression from homework\n",
    "\n",
    "max_depth=10  # a nested for loop can be run to optimize this too\n",
    "\n",
    "candidate_trees = np.arange(1, 100)\n",
    "scores = []\n",
    "for n_trees in candidate_trees:\n",
    "    # we specify the max depth of each tree, as well as set the number of trees in our random forest\n",
    "    clf = RandomForestRegressor(max_depth=max_depth, n_estimators=n_trees)\n",
    "    scores.append(cross_val_score(clf, X, y, cv=kf))\n",
    "\n",
    "scores = np.array(scores)\n",
    "tree_scores = scores.mean(axis=1)\n"
   ]
  },
  {
   "cell_type": "code",
   "execution_count": 246,
   "metadata": {},
   "outputs": [
    {
     "name": "stdout",
     "output_type": "stream",
     "text": [
      "0.6699580798026844\n",
      "[ 0.33039709 -0.03069537  0.60033329  0.52536368  0.78778994]\n",
      "Accuracy: 0.44 (+/- 0.12)\n"
     ]
    },
    {
     "data": {
      "image/png": "[encoded data removed]",
      "text/plain": [
       "<matplotlib.figure.Figure at 0x193463c8>"
      ]
     },
     "metadata": {},
     "output_type": "display_data"
    }
   ],
   "source": [
    "plt.plot(candidate_trees, tree_scores, 'o-')\n",
    "plt.ylabel(\"CV-Accuracy\")\n",
    "plt.xlabel(\"N-trees\")\n",
    "best_k = candidate_trees[np.argmax(tree_scores)]\n",
    "plt.title(\"Best N-trees: {}\".format(best_k))\n",
    "\n",
    "clf = RandomForestRegressor(max_depth=max_depth, n_estimators=best_k)\n",
    "print(max(cross_val_score(clf, X, y, cv=kf)))\n",
    "print(cross_val_score(clf, X, y, cv=kf))\n",
    "print(\"Accuracy: %0.2f (+/- %0.2f)\" % (scores.mean(), scores.std() / 2))"
   ]
  },
  {
   "cell_type": "code",
   "execution_count": 219,
   "metadata": {},
   "outputs": [
    {
     "name": "stdout",
     "output_type": "stream",
     "text": [
      "0.7264841666890816\n"
     ]
    }
   ],
   "source": []
  },
  {
   "cell_type": "code",
   "execution_count": 140,
   "metadata": {},
   "outputs": [
    {
     "name": "stdout",
     "output_type": "stream",
     "text": [
      "[5, 10, 91]\n"
     ]
    }
   ],
   "source": [
    "#Create neural network\n",
    "\n",
    "layer_sizes = [X_train.shape[1], 10, np.unique(y_train).shape[0]]  # 1 hidden layers of size 10 and 5, respectively\n",
    "print(layer_sizes)\n"
   ]
  },
  {
   "cell_type": "code",
   "execution_count": 95,
   "metadata": {},
   "outputs": [],
   "source": [
    "from keras.models import Sequential\n",
    "from keras.layers import Dense\n",
    "\n",
    "def build_model():\n",
    "    model = Sequential()\n",
    "    model.add(Dense(4, input_dim=5,kernel_initializer='normal', activation='relu'))\n",
    "    #model.add(Dense(2,kernel_initializer='normal', activation='relu'))\n",
    "    model.add(Dense(1, kernel_initializer='normal'))\n",
    "    model.compile(loss='mean_squared_error', optimizer='adam')  \n",
    "    return model"
   ]
  },
  {
   "cell_type": "code",
   "execution_count": 96,
   "metadata": {},
   "outputs": [
    {
     "name": "stdout",
     "output_type": "stream",
     "text": [
      "177\n"
     ]
    }
   ],
   "source": [
    "model = build_model()\n"
   ]
  },
  {
   "cell_type": "code",
   "execution_count": 97,
   "metadata": {},
   "outputs": [
    {
     "data": {
      "text/plain": [
       "<keras.callbacks.History at 0x189d8e10>"
      ]
     },
     "execution_count": 97,
     "metadata": {},
     "output_type": "execute_result"
    }
   ],
   "source": [
    "model.fit(X_train, y_train, epochs=100, batch_size=2, verbose = 0)"
   ]
  },
  {
   "cell_type": "code",
   "execution_count": 98,
   "metadata": {},
   "outputs": [
    {
     "data": {
      "text/plain": [
       "1.2561562576103769"
      ]
     },
     "execution_count": 98,
     "metadata": {},
     "output_type": "execute_result"
    }
   ],
   "source": [
    "from sklearn.metrics import mean_squared_error\n",
    "mean_squared_error(y_test, model.predict(X_test))"
   ]
  },
  {
   "cell_type": "code",
   "execution_count": 99,
   "metadata": {},
   "outputs": [
    {
     "name": "stdout",
     "output_type": "stream",
     "text": [
      "0.9171957885954114\n",
      "[0.25 0.03 1.28 0.02 1.55 0.29 3.51 0.03 0.47 1.17 0.46 2.15 0.02 1.5\n",
      " 0.01 0.05 1.29 0.27 0.09 0.09 0.8  0.91 2.03 0.62 0.03 0.44 0.01 0.13\n",
      " 5.35 0.03 1.83 2.41 0.04 0.75 0.04 0.04 0.22 0.05 0.01 0.13 0.81 0.03\n",
      " 0.07 0.53 0.02]\n",
      "[[1.3171117 ]\n",
      " [1.0173527 ]\n",
      " [1.0757642 ]\n",
      " [0.7339436 ]\n",
      " [0.94692814]\n",
      " [1.2170871 ]\n",
      " [1.4956135 ]\n",
      " [0.89141715]\n",
      " [0.7554792 ]\n",
      " [1.4450138 ]\n",
      " [1.2793471 ]\n",
      " [1.6714907 ]\n",
      " [0.8401457 ]\n",
      " [1.1242894 ]\n",
      " [1.2283698 ]\n",
      " [1.5398078 ]\n",
      " [1.5064878 ]\n",
      " [1.6632411 ]\n",
      " [1.1129863 ]\n",
      " [1.2274826 ]\n",
      " [1.2368952 ]\n",
      " [0.9984369 ]\n",
      " [1.1294457 ]\n",
      " [1.423962  ]\n",
      " [0.9289627 ]\n",
      " [1.0884222 ]\n",
      " [1.6619806 ]\n",
      " [1.190629  ]\n",
      " [1.1919158 ]\n",
      " [1.0608064 ]\n",
      " [1.5943124 ]\n",
      " [1.494983  ]\n",
      " [1.485394  ]\n",
      " [1.698932  ]\n",
      " [1.1637948 ]\n",
      " [1.3015872 ]\n",
      " [0.6719153 ]\n",
      " [0.8587254 ]\n",
      " [0.9502517 ]\n",
      " [1.0265088 ]\n",
      " [0.5480242 ]\n",
      " [0.79917705]\n",
      " [1.2476306 ]\n",
      " [0.77030873]\n",
      " [1.2269831 ]]\n"
     ]
    }
   ],
   "source": [
    "from sklearn.metrics import mean_absolute_error\n",
    "score = mean_absolute_error(y_test, model.predict(X_test))\n",
    "print(score)\n",
    "print(y_test)\n",
    "print(model.predict(X_test))"
   ]
  },
  {
   "cell_type": "code",
   "execution_count": 100,
   "metadata": {},
   "outputs": [
    {
     "name": "stdout",
     "output_type": "stream",
     "text": [
      "-0.13219998414610368\n"
     ]
    }
   ],
   "source": [
    "from sklearn.metrics import r2_score\n",
    "r2 = r2_score(y_test, model.predict(X_test))\n",
    "print(r2)"
   ]
  },
  {
   "cell_type": "code",
   "execution_count": null,
   "metadata": {},
   "outputs": [],
   "source": []
  },
  {
   "cell_type": "markdown",
   "metadata": {},
   "source": [
    "Dataset: I was examining weather data in California in order to predict rainfall.  My features were month, year, (monthly) temperature average,(monthly) temperature max, and (monthly) temperature min, and my dependent variable was monthly rain in inches.  This data was gathered from the California Department of Water Resources, and was centered in Orange County.  I didn't want to look at too large an area, as I was unsure if climate would be consistant enough across larger distances to be workable.  This, obviously, is a regression problem.\n",
    "\n",
    "Project Expectations:\n",
    "I encountered several difficulties with the data.\n",
    "1: I expected outliers, and, unfortunately, I cannot just drop those outliers, as they are representative of the data.  Fluctuating rain levels and drought are common in California, so, even though I have data points saying there are 0 inches of rain in January one year, and 9 inches in another, and both of those data points are valid and useful.\n",
    "\n",
    "Additionally, another issue with the data is the time frame I was able to look at.  The only weather stations I could find with all the features I wanted to examine didn't have much of that data.  There were roughly 10 years, which is only 120 data points.  Even stringing together a few weather stations as I did didn't provide much data.  Aside from being a low number of data points, this carries a domain specific issue as well.  Rain, and climate in general, is roughly cyclical.  The issue is, however, that this cycle is often very rough (thus hard to capture), and can take place on a very long timescale (years, if not tens of years).  My concern is that I do not have enough data going far back enough to capture these trends, reducing the usefulness of my model.\n",
    "\n",
    "2: Data representation.  The data I found was recorded in a very odd way, with differing timescales.  Temperature data was recorded daily, and percipitation data was recorded hourly.  Even worse, the rain data metric appeared to be \"cumulative rainfall this year up to this hour\"... most of the time.  Several times in the data, this measure arbitrarily reset to 0, and not at a predictable time like January 1st.  Additionally, there were missing patches of data, though nothing too extreme.  Thus, some data points had to be dropped.\n",
    "\n",
    "Models used:\n",
    "Random Forest Regression: I chose Random Forest as, intuivitely, I felt that decision trees could model this problem well.  It holds up to casual examination that you could estimate rainfall based on a series of decisions (is it a summer month?  Is the low temeprature below X value?  ect).  And this model performed very reasonably.  After using cross validation in order to find the best number of trees, I got a cross validation training score that maxed out at ~70%, and had an average accuracy of ~.40, +/- .10\n",
    "\n",
    "I attribute the variability in the cross validation scores to the uneven nature of the data, as well as the nature of tree-based models.  There are both months that almost never have any rain (the summer months) and large, natural outliers in the data (droughts/floods) that, coupled with the relatively low number of data points, could create odd test/training splits.\n",
    "\n",
    "Linear Regression: My inital thought was that linear regression would be half decent, as it seems like there could be some reasonably simple trends in my data (i.e., certain months very predictably have higher/lower rainfall, the lower the temperature is, the more rain there will be ect).\n",
    "\n",
    "However, the method proved very lacking.  The model generated by logistic regression was very poor, and wasn't improved by either the Ridge or LASSO methods.  At best, this method only produced a regression with ~10% accuracy, a pretty sizeable failure.\n",
    "\n",
    "Neural Network: Despite my best efforts, I was not able to construct an accurate neural network.  No matter how I structured or trained the network (changing the number of hidden layers, batch size, ect.) the network always seemed to prefer very middle of the road guesses (hovering around 1 inch of rain, give or take a few fractions of an inch).\n",
    "\n",
    "I used mean square error, r2 value, and mean absolute error in order to evaluate the network, and no metric were not great.  The error values hovered around 1 inch each (absolute a little lower than one inch, mean squared a little above), and the r2 value told me, more or less, that my network was not accuractly predicting anything, with the value being close to zero. \n",
    "\n",
    "Ending Thoughts: \n",
    "Overall, I didn't find much success.  My random forest model was the best, but the other two were rather poor.  One of the biggest changes I'd like to make to this problem is to find a larger dataset that covers more time.  My dataset, overall, was small, and this was compounded by the fact that climate operates on a very large timescale.\n"
   ]
  }
 ],
 "metadata": {
  "kernelspec": {
   "display_name": "Python 3",
   "language": "python",
   "name": "python3"
  },
  "language_info": {
   "codemirror_mode": {
    "name": "ipython",
    "version": 3
   },
   "file_extension": ".py",
   "mimetype": "text/x-python",
   "name": "python",
   "nbconvert_exporter": "python",
   "pygments_lexer": "ipython3",
   "version": "3.6.4"
  }
 },
 "nbformat": 4,
 "nbformat_minor": 2
}
